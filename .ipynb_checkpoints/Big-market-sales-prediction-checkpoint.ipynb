{
 "cells": [
  {
   "cell_type": "markdown",
   "id": "ee14ac1f-a1bb-4682-881d-2856515ea9d9",
   "metadata": {},
   "source": [
    "# __Big Market Sales Prediction__"
   ]
  },
  {
   "cell_type": "markdown",
   "id": "e2d26186-5adb-4dbc-87fd-998341220aaa",
   "metadata": {},
   "source": [
    "## Importing all the necessary libraries"
   ]
  },
  {
   "cell_type": "code",
   "execution_count": 1,
   "id": "b4239b73-ae36-4050-9f80-cc9ab408eb4d",
   "metadata": {},
   "outputs": [],
   "source": [
    "import numpy as np\n",
    "import pandas as pd\n",
    "import matplotlib.pyplot as plt\n",
    "import seaborn as sns\n",
    "import warnings\n",
    "warnings.filterwarnings('ignore')"
   ]
  },
  {
   "cell_type": "markdown",
   "id": "77c3f552-ec6e-4565-861b-27cfb94c3f52",
   "metadata": {},
   "source": [
    "## Loading the dataset"
   ]
  },
  {
   "cell_type": "code",
   "execution_count": 2,
   "id": "dd1bcef3-8bbb-4102-ab6c-88fd0eb36565",
   "metadata": {},
   "outputs": [
    {
     "data": {
      "text/html": [
       "<div>\n",
       "<style scoped>\n",
       "    .dataframe tbody tr th:only-of-type {\n",
       "        vertical-align: middle;\n",
       "    }\n",
       "\n",
       "    .dataframe tbody tr th {\n",
       "        vertical-align: top;\n",
       "    }\n",
       "\n",
       "    .dataframe thead th {\n",
       "        text-align: right;\n",
       "    }\n",
       "</style>\n",
       "<table border=\"1\" class=\"dataframe\">\n",
       "  <thead>\n",
       "    <tr style=\"text-align: right;\">\n",
       "      <th></th>\n",
       "      <th>Item_Identifier</th>\n",
       "      <th>Item_Weight</th>\n",
       "      <th>Item_Fat_Content</th>\n",
       "      <th>Item_Visibility</th>\n",
       "      <th>Item_Type</th>\n",
       "      <th>Item_MRP</th>\n",
       "      <th>Outlet_Identifier</th>\n",
       "      <th>Outlet_Establishment_Year</th>\n",
       "      <th>Outlet_Size</th>\n",
       "      <th>Outlet_Location_Type</th>\n",
       "      <th>Outlet_Type</th>\n",
       "      <th>Item_Outlet_Sales</th>\n",
       "    </tr>\n",
       "  </thead>\n",
       "  <tbody>\n",
       "    <tr>\n",
       "      <th>0</th>\n",
       "      <td>FDA15</td>\n",
       "      <td>9.30</td>\n",
       "      <td>Low Fat</td>\n",
       "      <td>0.016047</td>\n",
       "      <td>Dairy</td>\n",
       "      <td>249.8092</td>\n",
       "      <td>OUT049</td>\n",
       "      <td>1999</td>\n",
       "      <td>Medium</td>\n",
       "      <td>Tier 1</td>\n",
       "      <td>Supermarket Type1</td>\n",
       "      <td>3735.1380</td>\n",
       "    </tr>\n",
       "    <tr>\n",
       "      <th>1</th>\n",
       "      <td>DRC01</td>\n",
       "      <td>5.92</td>\n",
       "      <td>Regular</td>\n",
       "      <td>0.019278</td>\n",
       "      <td>Soft Drinks</td>\n",
       "      <td>48.2692</td>\n",
       "      <td>OUT018</td>\n",
       "      <td>2009</td>\n",
       "      <td>Medium</td>\n",
       "      <td>Tier 3</td>\n",
       "      <td>Supermarket Type2</td>\n",
       "      <td>443.4228</td>\n",
       "    </tr>\n",
       "    <tr>\n",
       "      <th>2</th>\n",
       "      <td>FDN15</td>\n",
       "      <td>17.50</td>\n",
       "      <td>Low Fat</td>\n",
       "      <td>0.016760</td>\n",
       "      <td>Meat</td>\n",
       "      <td>141.6180</td>\n",
       "      <td>OUT049</td>\n",
       "      <td>1999</td>\n",
       "      <td>Medium</td>\n",
       "      <td>Tier 1</td>\n",
       "      <td>Supermarket Type1</td>\n",
       "      <td>2097.2700</td>\n",
       "    </tr>\n",
       "    <tr>\n",
       "      <th>3</th>\n",
       "      <td>FDX07</td>\n",
       "      <td>19.20</td>\n",
       "      <td>Regular</td>\n",
       "      <td>0.000000</td>\n",
       "      <td>Fruits and Vegetables</td>\n",
       "      <td>182.0950</td>\n",
       "      <td>OUT010</td>\n",
       "      <td>1998</td>\n",
       "      <td>NaN</td>\n",
       "      <td>Tier 3</td>\n",
       "      <td>Grocery Store</td>\n",
       "      <td>732.3800</td>\n",
       "    </tr>\n",
       "    <tr>\n",
       "      <th>4</th>\n",
       "      <td>NCD19</td>\n",
       "      <td>8.93</td>\n",
       "      <td>Low Fat</td>\n",
       "      <td>0.000000</td>\n",
       "      <td>Household</td>\n",
       "      <td>53.8614</td>\n",
       "      <td>OUT013</td>\n",
       "      <td>1987</td>\n",
       "      <td>High</td>\n",
       "      <td>Tier 3</td>\n",
       "      <td>Supermarket Type1</td>\n",
       "      <td>994.7052</td>\n",
       "    </tr>\n",
       "  </tbody>\n",
       "</table>\n",
       "</div>"
      ],
      "text/plain": [
       "  Item_Identifier  Item_Weight Item_Fat_Content  Item_Visibility  \\\n",
       "0           FDA15         9.30          Low Fat         0.016047   \n",
       "1           DRC01         5.92          Regular         0.019278   \n",
       "2           FDN15        17.50          Low Fat         0.016760   \n",
       "3           FDX07        19.20          Regular         0.000000   \n",
       "4           NCD19         8.93          Low Fat         0.000000   \n",
       "\n",
       "               Item_Type  Item_MRP Outlet_Identifier  \\\n",
       "0                  Dairy  249.8092            OUT049   \n",
       "1            Soft Drinks   48.2692            OUT018   \n",
       "2                   Meat  141.6180            OUT049   \n",
       "3  Fruits and Vegetables  182.0950            OUT010   \n",
       "4              Household   53.8614            OUT013   \n",
       "\n",
       "   Outlet_Establishment_Year Outlet_Size Outlet_Location_Type  \\\n",
       "0                       1999      Medium               Tier 1   \n",
       "1                       2009      Medium               Tier 3   \n",
       "2                       1999      Medium               Tier 1   \n",
       "3                       1998         NaN               Tier 3   \n",
       "4                       1987        High               Tier 3   \n",
       "\n",
       "         Outlet_Type  Item_Outlet_Sales  \n",
       "0  Supermarket Type1          3735.1380  \n",
       "1  Supermarket Type2           443.4228  \n",
       "2  Supermarket Type1          2097.2700  \n",
       "3      Grocery Store           732.3800  \n",
       "4  Supermarket Type1           994.7052  "
      ]
     },
     "execution_count": 2,
     "metadata": {},
     "output_type": "execute_result"
    }
   ],
   "source": [
    "df = pd.read_csv('bigmart.csv')\n",
    "df.head()"
   ]
  },
  {
   "cell_type": "markdown",
   "id": "dd87b71d-0db0-4f24-b466-9c67fb36c0fd",
   "metadata": {},
   "source": [
    "## Data Exploration and Data Cleaning"
   ]
  },
  {
   "cell_type": "code",
   "execution_count": 3,
   "id": "6d06f152-1b01-4c8a-81dc-374fd82a8b60",
   "metadata": {},
   "outputs": [
    {
     "data": {
      "text/plain": [
       "(8523, 12)"
      ]
     },
     "execution_count": 3,
     "metadata": {},
     "output_type": "execute_result"
    }
   ],
   "source": [
    "df.shape"
   ]
  },
  {
   "cell_type": "code",
   "execution_count": 4,
   "id": "063c8b6e-dcf2-4917-88bb-049c5b7ce9cf",
   "metadata": {},
   "outputs": [
    {
     "name": "stdout",
     "output_type": "stream",
     "text": [
      "<class 'pandas.core.frame.DataFrame'>\n",
      "RangeIndex: 8523 entries, 0 to 8522\n",
      "Data columns (total 12 columns):\n",
      " #   Column                     Non-Null Count  Dtype  \n",
      "---  ------                     --------------  -----  \n",
      " 0   Item_Identifier            8523 non-null   object \n",
      " 1   Item_Weight                7060 non-null   float64\n",
      " 2   Item_Fat_Content           8523 non-null   object \n",
      " 3   Item_Visibility            8523 non-null   float64\n",
      " 4   Item_Type                  8523 non-null   object \n",
      " 5   Item_MRP                   8523 non-null   float64\n",
      " 6   Outlet_Identifier          8523 non-null   object \n",
      " 7   Outlet_Establishment_Year  8523 non-null   int64  \n",
      " 8   Outlet_Size                6113 non-null   object \n",
      " 9   Outlet_Location_Type       8523 non-null   object \n",
      " 10  Outlet_Type                8523 non-null   object \n",
      " 11  Item_Outlet_Sales          8523 non-null   float64\n",
      "dtypes: float64(4), int64(1), object(7)\n",
      "memory usage: 799.2+ KB\n"
     ]
    }
   ],
   "source": [
    "df.info()"
   ]
  },
  {
   "cell_type": "markdown",
   "id": "640040a7-ee14-4ce2-bfcc-a19635bc6a47",
   "metadata": {},
   "source": [
    "#### Categorical Features : \n",
    "- __Item_Identifier__\n",
    "- __Item_Fat_Content__\n",
    "- __Item_Type__\n",
    "- __Outlet_Identifier__\n",
    "- __Outlet_Size__\n",
    "- __Outlet_Location_Type__\n",
    "- __Outlet_Type__"
   ]
  },
  {
   "cell_type": "markdown",
   "id": "d3332823-9328-440c-a495-daa68df7130c",
   "metadata": {},
   "source": [
    "#### Checking for Missing Values"
   ]
  },
  {
   "cell_type": "code",
   "execution_count": 5,
   "id": "1888da68-7cac-4e15-b68e-563742df28e2",
   "metadata": {},
   "outputs": [
    {
     "data": {
      "text/plain": [
       "Item_Identifier                 0\n",
       "Item_Weight                  1463\n",
       "Item_Fat_Content                0\n",
       "Item_Visibility                 0\n",
       "Item_Type                       0\n",
       "Item_MRP                        0\n",
       "Outlet_Identifier               0\n",
       "Outlet_Establishment_Year       0\n",
       "Outlet_Size                  2410\n",
       "Outlet_Location_Type            0\n",
       "Outlet_Type                     0\n",
       "Item_Outlet_Sales               0\n",
       "dtype: int64"
      ]
     },
     "execution_count": 5,
     "metadata": {},
     "output_type": "execute_result"
    }
   ],
   "source": [
    "df.isnull().sum()"
   ]
  },
  {
   "cell_type": "markdown",
   "id": "9611f7d6-b368-4277-a1ef-18429a30bbd7",
   "metadata": {},
   "source": [
    "#### Handling Missing Values\n",
    "- __MEAN -> AVERAGE__\n",
    "- __MODE -> MORE REPEATED VALUE__"
   ]
  },
  {
   "cell_type": "code",
   "execution_count": 6,
   "id": "4f9760f4-93ac-451a-88da-89e297cba899",
   "metadata": {},
   "outputs": [
    {
     "data": {
      "text/plain": [
       "12.857645184135976"
      ]
     },
     "execution_count": 6,
     "metadata": {},
     "output_type": "execute_result"
    }
   ],
   "source": [
    "df['Item_Weight'].mean()"
   ]
  },
  {
   "cell_type": "code",
   "execution_count": 7,
   "id": "43eef44d-2d9e-48e6-98bc-db29d653bb18",
   "metadata": {},
   "outputs": [],
   "source": [
    "# Filling the missing values in 'Item_Weight' with MEAN VALUE\n",
    "df['Item_Weight'].fillna(df['Item_Weight'].mean(), inplace=True)"
   ]
  },
  {
   "cell_type": "code",
   "execution_count": 8,
   "id": "3dd10705-2c3a-49ce-860c-e85ef6571d76",
   "metadata": {},
   "outputs": [
    {
     "data": {
      "text/plain": [
       "0    Medium\n",
       "Name: Outlet_Size, dtype: object"
      ]
     },
     "execution_count": 8,
     "metadata": {},
     "output_type": "execute_result"
    }
   ],
   "source": [
    "# Mode of 'Outlet_Size' Column\n",
    "df['Outlet_Size'].mode()"
   ]
  },
  {
   "cell_type": "code",
   "execution_count": 9,
   "id": "9ccb470f-95a3-47cb-9765-8db166b44924",
   "metadata": {},
   "outputs": [],
   "source": [
    "# Filling the missing values in 'Outlet_Size' Column with the MODE\n",
    "mode_of_outlet_size = df.pivot_table(values='Outlet_Size', columns='Outlet_Type', aggfunc =(lambda x: x.mode()[0]))"
   ]
  },
  {
   "cell_type": "code",
   "execution_count": 10,
   "id": "330c9dc1-c07b-41f7-9fa4-eb62b33b3b10",
   "metadata": {},
   "outputs": [
    {
     "name": "stdout",
     "output_type": "stream",
     "text": [
      "Outlet_Type Grocery Store Supermarket Type1 Supermarket Type2  \\\n",
      "Outlet_Size         Small             Small            Medium   \n",
      "\n",
      "Outlet_Type Supermarket Type3  \n",
      "Outlet_Size            Medium  \n"
     ]
    }
   ],
   "source": [
    "print(mode_of_outlet_size)"
   ]
  },
  {
   "cell_type": "code",
   "execution_count": 11,
   "id": "92d97f3d-2b19-480a-bc13-38103a6d9555",
   "metadata": {},
   "outputs": [],
   "source": [
    "miss_values = df['Outlet_Size'].isnull()"
   ]
  },
  {
   "cell_type": "code",
   "execution_count": 12,
   "id": "0388960b-584f-42ac-9bae-9bfc9416c47b",
   "metadata": {},
   "outputs": [
    {
     "name": "stdout",
     "output_type": "stream",
     "text": [
      "0       False\n",
      "1       False\n",
      "2       False\n",
      "3        True\n",
      "4       False\n",
      "        ...  \n",
      "8518    False\n",
      "8519     True\n",
      "8520    False\n",
      "8521    False\n",
      "8522    False\n",
      "Name: Outlet_Size, Length: 8523, dtype: bool\n"
     ]
    }
   ],
   "source": [
    "print(miss_values)"
   ]
  },
  {
   "cell_type": "code",
   "execution_count": 13,
   "id": "0b0b1bb6-4f44-4066-ab37-1c39aa31ffc8",
   "metadata": {},
   "outputs": [],
   "source": [
    "df.loc[miss_values, 'Outlet_Size'] = df.loc[miss_values, 'Outlet_Type'].apply(lambda x:mode_of_outlet_size[x])"
   ]
  },
  {
   "cell_type": "code",
   "execution_count": 14,
   "id": "28122c57-cf8d-41ea-9adb-1eab08126c0d",
   "metadata": {},
   "outputs": [
    {
     "data": {
      "text/plain": [
       "Item_Identifier              0\n",
       "Item_Weight                  0\n",
       "Item_Fat_Content             0\n",
       "Item_Visibility              0\n",
       "Item_Type                    0\n",
       "Item_MRP                     0\n",
       "Outlet_Identifier            0\n",
       "Outlet_Establishment_Year    0\n",
       "Outlet_Size                  0\n",
       "Outlet_Location_Type         0\n",
       "Outlet_Type                  0\n",
       "Item_Outlet_Sales            0\n",
       "dtype: int64"
      ]
     },
     "execution_count": 14,
     "metadata": {},
     "output_type": "execute_result"
    }
   ],
   "source": [
    "# Checking for missing values\n",
    "df.isnull().sum()"
   ]
  },
  {
   "cell_type": "markdown",
   "id": "9a867290-9499-4c94-a11d-f0348e342585",
   "metadata": {},
   "source": [
    "## Exploratory Data Analysis (EDA)"
   ]
  },
  {
   "cell_type": "code",
   "execution_count": 15,
   "id": "8eb71954-638c-424d-b27e-c5a8017965b5",
   "metadata": {},
   "outputs": [
    {
     "data": {
      "text/html": [
       "<div>\n",
       "<style scoped>\n",
       "    .dataframe tbody tr th:only-of-type {\n",
       "        vertical-align: middle;\n",
       "    }\n",
       "\n",
       "    .dataframe tbody tr th {\n",
       "        vertical-align: top;\n",
       "    }\n",
       "\n",
       "    .dataframe thead th {\n",
       "        text-align: right;\n",
       "    }\n",
       "</style>\n",
       "<table border=\"1\" class=\"dataframe\">\n",
       "  <thead>\n",
       "    <tr style=\"text-align: right;\">\n",
       "      <th></th>\n",
       "      <th>Item_Weight</th>\n",
       "      <th>Item_Visibility</th>\n",
       "      <th>Item_MRP</th>\n",
       "      <th>Outlet_Establishment_Year</th>\n",
       "      <th>Item_Outlet_Sales</th>\n",
       "    </tr>\n",
       "  </thead>\n",
       "  <tbody>\n",
       "    <tr>\n",
       "      <th>count</th>\n",
       "      <td>8523.000000</td>\n",
       "      <td>8523.000000</td>\n",
       "      <td>8523.000000</td>\n",
       "      <td>8523.000000</td>\n",
       "      <td>8523.000000</td>\n",
       "    </tr>\n",
       "    <tr>\n",
       "      <th>mean</th>\n",
       "      <td>12.857645</td>\n",
       "      <td>0.066132</td>\n",
       "      <td>140.992782</td>\n",
       "      <td>1997.831867</td>\n",
       "      <td>2181.288914</td>\n",
       "    </tr>\n",
       "    <tr>\n",
       "      <th>std</th>\n",
       "      <td>4.226124</td>\n",
       "      <td>0.051598</td>\n",
       "      <td>62.275067</td>\n",
       "      <td>8.371760</td>\n",
       "      <td>1706.499616</td>\n",
       "    </tr>\n",
       "    <tr>\n",
       "      <th>min</th>\n",
       "      <td>4.555000</td>\n",
       "      <td>0.000000</td>\n",
       "      <td>31.290000</td>\n",
       "      <td>1985.000000</td>\n",
       "      <td>33.290000</td>\n",
       "    </tr>\n",
       "    <tr>\n",
       "      <th>25%</th>\n",
       "      <td>9.310000</td>\n",
       "      <td>0.026989</td>\n",
       "      <td>93.826500</td>\n",
       "      <td>1987.000000</td>\n",
       "      <td>834.247400</td>\n",
       "    </tr>\n",
       "    <tr>\n",
       "      <th>50%</th>\n",
       "      <td>12.857645</td>\n",
       "      <td>0.053931</td>\n",
       "      <td>143.012800</td>\n",
       "      <td>1999.000000</td>\n",
       "      <td>1794.331000</td>\n",
       "    </tr>\n",
       "    <tr>\n",
       "      <th>75%</th>\n",
       "      <td>16.000000</td>\n",
       "      <td>0.094585</td>\n",
       "      <td>185.643700</td>\n",
       "      <td>2004.000000</td>\n",
       "      <td>3101.296400</td>\n",
       "    </tr>\n",
       "    <tr>\n",
       "      <th>max</th>\n",
       "      <td>21.350000</td>\n",
       "      <td>0.328391</td>\n",
       "      <td>266.888400</td>\n",
       "      <td>2009.000000</td>\n",
       "      <td>13086.964800</td>\n",
       "    </tr>\n",
       "  </tbody>\n",
       "</table>\n",
       "</div>"
      ],
      "text/plain": [
       "       Item_Weight  Item_Visibility     Item_MRP  Outlet_Establishment_Year  \\\n",
       "count  8523.000000      8523.000000  8523.000000                8523.000000   \n",
       "mean     12.857645         0.066132   140.992782                1997.831867   \n",
       "std       4.226124         0.051598    62.275067                   8.371760   \n",
       "min       4.555000         0.000000    31.290000                1985.000000   \n",
       "25%       9.310000         0.026989    93.826500                1987.000000   \n",
       "50%      12.857645         0.053931   143.012800                1999.000000   \n",
       "75%      16.000000         0.094585   185.643700                2004.000000   \n",
       "max      21.350000         0.328391   266.888400                2009.000000   \n",
       "\n",
       "       Item_Outlet_Sales  \n",
       "count        8523.000000  \n",
       "mean         2181.288914  \n",
       "std          1706.499616  \n",
       "min            33.290000  \n",
       "25%           834.247400  \n",
       "50%          1794.331000  \n",
       "75%          3101.296400  \n",
       "max         13086.964800  "
      ]
     },
     "execution_count": 15,
     "metadata": {},
     "output_type": "execute_result"
    }
   ],
   "source": [
    "df.describe()"
   ]
  },
  {
   "cell_type": "markdown",
   "id": "99416146-5149-41f3-85fd-99f5007e05a7",
   "metadata": {},
   "source": [
    "#### Item_Weight Distribution"
   ]
  },
  {
   "cell_type": "code",
   "execution_count": 16,
   "id": "f35d26f0-5b94-4020-b1ea-ee78d8bf79d3",
   "metadata": {},
   "outputs": [
    {
     "data": {
      "image/png": "[encoded data removed]",
      "text/plain": [
       "<Figure size 600x600 with 1 Axes>"
      ]
     },
     "metadata": {},
     "output_type": "display_data"
    }
   ],
   "source": [
    "plt.figure(figsize=(6,6))\n",
    "sns.distplot(df['Item_Weight'])\n",
    "plt.show()"
   ]
  },
  {
   "cell_type": "markdown",
   "id": "b5064d81-717b-454e-a259-a61cee9890aa",
   "metadata": {},
   "source": [
    "#### Item_Visibilty Distribution"
   ]
  },
  {
   "cell_type": "code",
   "execution_count": 17,
   "id": "b74eebf4-a3a9-4765-b259-c0fe16b4888b",
   "metadata": {},
   "outputs": [
    {
     "data": {
      "image/png": "[encoded data removed]",
      "text/plain": [
       "<Figure size 600x600 with 1 Axes>"
      ]
     },
     "metadata": {},
     "output_type": "display_data"
    }
   ],
   "source": [
    "plt.figure(figsize=(6,6))\n",
    "sns.distplot(df['Item_Visibility'])\n",
    "plt.show()"
   ]
  },
  {
   "cell_type": "markdown",
   "id": "709c2daa-fb73-45c9-a333-9899d9a81a70",
   "metadata": {},
   "source": [
    "#### Item_MRP Distribution"
   ]
  },
  {
   "cell_type": "code",
   "execution_count": 18,
   "id": "7ce85973-d18d-4293-a1aa-3969f131a576",
   "metadata": {},
   "outputs": [
    {
     "data": {
      "image/png": "[encoded data removed]",
      "text/plain": [
       "<Figure size 600x600 with 1 Axes>"
      ]
     },
     "metadata": {},
     "output_type": "display_data"
    }
   ],
   "source": [
    "plt.figure(figsize=(6,6))\n",
    "sns.distplot(df['Item_MRP'])\n",
    "plt.show()"
   ]
  },
  {
   "cell_type": "markdown",
   "id": "23cd7aa9-911a-4ea9-a261-82e119568e6d",
   "metadata": {},
   "source": [
    "#### Item_Outlet_Sales Distribution"
   ]
  },
  {
   "cell_type": "code",
   "execution_count": 19,
   "id": "1e7027c8-c7a9-41e1-b202-a381ceb78b80",
   "metadata": {},
   "outputs": [
    {
     "data": {
      "image/png": "[encoded data removed]",
      "text/plain": [
       "<Figure size 600x600 with 1 Axes>"
      ]
     },
     "metadata": {},
     "output_type": "display_data"
    }
   ],
   "source": [
    "plt.figure(figsize=(6,6))\n",
    "sns.distplot(df['Item_Outlet_Sales'])\n",
    "plt.show()"
   ]
  },
  {
   "cell_type": "markdown",
   "id": "a92df9c5-f14d-4c13-9ca5-40db82e1accf",
   "metadata": {},
   "source": [
    "#### Outlet_Establishment_Year Column"
   ]
  },
  {
   "cell_type": "code",
   "execution_count": 20,
   "id": "e245370e-4bd3-43ef-a166-9861e6d4fbd5",
   "metadata": {},
   "outputs": [
    {
     "data": {
      "image/png": "[encoded data removed]",
      "text/plain": [
       "<Figure size 600x600 with 1 Axes>"
      ]
     },
     "metadata": {},
     "output_type": "display_data"
    }
   ],
   "source": [
    "# Creating a figure with a custom size\n",
    "plt.figure(figsize=(6,6))\n",
    "\n",
    "# Setting the seaborn theme to Darkgrid\n",
    "sns.set_style(style='darkgrid')\n",
    "\n",
    "# Creating a countplot with Outlet_Establishment_Year\n",
    "sns.countplot(x='Outlet_Establishment_Year', data=df, palette='rocket')\n",
    "\n",
    "# Setting the title of the plot\n",
    "plt.title('Outlet Establishment Year', fontsize=15)\n",
    "\n",
    "# Setting the x label\n",
    "plt.xlabel('Outlet_Establishment_Year', fontsize = 13)\n",
    "\n",
    "# Setting the y label\n",
    "plt.ylabel('Count', fontsize=13)\n",
    "plt.show()"
   ]
  },
  {
   "cell_type": "markdown",
   "id": "e47208fb-8810-45e5-ae14-6e0c80daf8d3",
   "metadata": {},
   "source": [
    "#### Item_Fat_Content Column"
   ]
  },
  {
   "cell_type": "code",
   "execution_count": 21,
   "id": "9839ea98-fb47-4d81-b4a4-3a857ce29011",
   "metadata": {},
   "outputs": [
    {
     "data": {
      "image/png": "[encoded data removed]",
      "text/plain": [
       "<Figure size 600x600 with 1 Axes>"
      ]
     },
     "metadata": {},
     "output_type": "display_data"
    }
   ],
   "source": [
    "# Setting a figure with a custom size\n",
    "plt.figure(figsize=(6,6))\n",
    "\n",
    "# Setting the seaborn theme to Darkgrid\n",
    "sns.set_style(style='darkgrid')\n",
    "\n",
    "# Creating a countplot with Item_Fat_Content\n",
    "sns.countplot(x='Item_Fat_Content', data=df, palette='rocket')\n",
    "\n",
    "# Setting the title of the plot\n",
    "plt.title('Item Fat Content', fontsize=15)\n",
    "\n",
    "# Setting the x label\n",
    "plt.xlabel('Item_Fat_Content', fontsize=13)\n",
    "\n",
    "# Setting the y label\n",
    "plt.ylabel('Count', fontsize=13)\n",
    "plt.show()"
   ]
  },
  {
   "cell_type": "markdown",
   "id": "bf1bccbb-0c76-4f52-a9c7-787180a0c8fb",
   "metadata": {},
   "source": [
    "#### Item_Type Column"
   ]
  },
  {
   "cell_type": "code",
   "execution_count": 22,
   "id": "c6307844-dbdd-4fba-adad-d203a5a368bd",
   "metadata": {},
   "outputs": [
    {
     "data": {
      "image/png": "[encoded data removed]",
      "text/plain": [
       "<Figure size 3000x600 with 1 Axes>"
      ]
     },
     "metadata": {},
     "output_type": "display_data"
    }
   ],
   "source": [
    "# Setting a figure with a custom figure\n",
    "plt.figure(figsize=(30,6))\n",
    "\n",
    "# Setting the seaborn theme to Darkgrid\n",
    "sns.set_style(style='darkgrid')\n",
    "\n",
    "# Creating a countplot with Item_Type\n",
    "sns.countplot(x='Item_Type', data=df, palette='rocket')\n",
    "\n",
    "# Setting the title of the plot\n",
    "plt.title('Item Type', fontsize=20)\n",
    "\n",
    "# Setting the x label\n",
    "plt.xlabel('Item_Type', fontsize=15)\n",
    "\n",
    "# Setting the y label\n",
    "plt.ylabel('Count', fontsize=15)\n",
    "plt.show()"
   ]
  },
  {
   "cell_type": "markdown",
   "id": "26393787-3f74-4fcd-bf9c-d624f0f9aae5",
   "metadata": {},
   "source": [
    "#### Outlet_Size Column"
   ]
  },
  {
   "cell_type": "code",
   "execution_count": 23,
   "id": "048e3954-d1f9-4025-8aaf-2da367134fc9",
   "metadata": {},
   "outputs": [
    {
     "data": {
      "image/png": "[encoded data removed]",
      "text/plain": [
       "<Figure size 600x600 with 1 Axes>"
      ]
     },
     "metadata": {},
     "output_type": "display_data"
    }
   ],
   "source": [
    "# Setting a figure with a custom size\n",
    "plt.figure(figsize=(6,6))\n",
    "\n",
    "# Setting a seaborn theme to darkgrid\n",
    "sns.set_style(style='darkgrid')\n",
    "\n",
    "# Creating a countplot with Outlet_Size\n",
    "sns.countplot(x='Outlet_Size', data=df, palette='rocket')\n",
    "\n",
    "# Setting the title of the plot\n",
    "plt.title('Outlet Size', fontsize=15)\n",
    "\n",
    "# Setting the x label\n",
    "plt.xlabel('Outlet_Size', fontsize=13)\n",
    "\n",
    "# Setting the y label\n",
    "plt.ylabel('Count', fontsize=13)\n",
    "plt.show()"
   ]
  },
  {
   "cell_type": "markdown",
   "id": "d5d0d83b-9d01-49a2-9ff7-b8e95e27bcdd",
   "metadata": {},
   "source": [
    "## Data Pre-processing"
   ]
  },
  {
   "cell_type": "code",
   "execution_count": 24,
   "id": "47059e76-1f91-4a34-8b30-a379937103d3",
   "metadata": {},
   "outputs": [
    {
     "data": {
      "text/html": [
       "<div>\n",
       "<style scoped>\n",
       "    .dataframe tbody tr th:only-of-type {\n",
       "        vertical-align: middle;\n",
       "    }\n",
       "\n",
       "    .dataframe tbody tr th {\n",
       "        vertical-align: top;\n",
       "    }\n",
       "\n",
       "    .dataframe thead th {\n",
       "        text-align: right;\n",
       "    }\n",
       "</style>\n",
       "<table border=\"1\" class=\"dataframe\">\n",
       "  <thead>\n",
       "    <tr style=\"text-align: right;\">\n",
       "      <th></th>\n",
       "      <th>Item_Identifier</th>\n",
       "      <th>Item_Weight</th>\n",
       "      <th>Item_Fat_Content</th>\n",
       "      <th>Item_Visibility</th>\n",
       "      <th>Item_Type</th>\n",
       "      <th>Item_MRP</th>\n",
       "      <th>Outlet_Identifier</th>\n",
       "      <th>Outlet_Establishment_Year</th>\n",
       "      <th>Outlet_Size</th>\n",
       "      <th>Outlet_Location_Type</th>\n",
       "      <th>Outlet_Type</th>\n",
       "      <th>Item_Outlet_Sales</th>\n",
       "    </tr>\n",
       "  </thead>\n",
       "  <tbody>\n",
       "    <tr>\n",
       "      <th>0</th>\n",
       "      <td>FDA15</td>\n",
       "      <td>9.30</td>\n",
       "      <td>Low Fat</td>\n",
       "      <td>0.016047</td>\n",
       "      <td>Dairy</td>\n",
       "      <td>249.8092</td>\n",
       "      <td>OUT049</td>\n",
       "      <td>1999</td>\n",
       "      <td>Medium</td>\n",
       "      <td>Tier 1</td>\n",
       "      <td>Supermarket Type1</td>\n",
       "      <td>3735.1380</td>\n",
       "    </tr>\n",
       "    <tr>\n",
       "      <th>1</th>\n",
       "      <td>DRC01</td>\n",
       "      <td>5.92</td>\n",
       "      <td>Regular</td>\n",
       "      <td>0.019278</td>\n",
       "      <td>Soft Drinks</td>\n",
       "      <td>48.2692</td>\n",
       "      <td>OUT018</td>\n",
       "      <td>2009</td>\n",
       "      <td>Medium</td>\n",
       "      <td>Tier 3</td>\n",
       "      <td>Supermarket Type2</td>\n",
       "      <td>443.4228</td>\n",
       "    </tr>\n",
       "    <tr>\n",
       "      <th>2</th>\n",
       "      <td>FDN15</td>\n",
       "      <td>17.50</td>\n",
       "      <td>Low Fat</td>\n",
       "      <td>0.016760</td>\n",
       "      <td>Meat</td>\n",
       "      <td>141.6180</td>\n",
       "      <td>OUT049</td>\n",
       "      <td>1999</td>\n",
       "      <td>Medium</td>\n",
       "      <td>Tier 1</td>\n",
       "      <td>Supermarket Type1</td>\n",
       "      <td>2097.2700</td>\n",
       "    </tr>\n",
       "    <tr>\n",
       "      <th>3</th>\n",
       "      <td>FDX07</td>\n",
       "      <td>19.20</td>\n",
       "      <td>Regular</td>\n",
       "      <td>0.000000</td>\n",
       "      <td>Fruits and Vegetables</td>\n",
       "      <td>182.0950</td>\n",
       "      <td>OUT010</td>\n",
       "      <td>1998</td>\n",
       "      <td>Small</td>\n",
       "      <td>Tier 3</td>\n",
       "      <td>Grocery Store</td>\n",
       "      <td>732.3800</td>\n",
       "    </tr>\n",
       "    <tr>\n",
       "      <th>4</th>\n",
       "      <td>NCD19</td>\n",
       "      <td>8.93</td>\n",
       "      <td>Low Fat</td>\n",
       "      <td>0.000000</td>\n",
       "      <td>Household</td>\n",
       "      <td>53.8614</td>\n",
       "      <td>OUT013</td>\n",
       "      <td>1987</td>\n",
       "      <td>High</td>\n",
       "      <td>Tier 3</td>\n",
       "      <td>Supermarket Type1</td>\n",
       "      <td>994.7052</td>\n",
       "    </tr>\n",
       "  </tbody>\n",
       "</table>\n",
       "</div>"
      ],
      "text/plain": [
       "  Item_Identifier  Item_Weight Item_Fat_Content  Item_Visibility  \\\n",
       "0           FDA15         9.30          Low Fat         0.016047   \n",
       "1           DRC01         5.92          Regular         0.019278   \n",
       "2           FDN15        17.50          Low Fat         0.016760   \n",
       "3           FDX07        19.20          Regular         0.000000   \n",
       "4           NCD19         8.93          Low Fat         0.000000   \n",
       "\n",
       "               Item_Type  Item_MRP Outlet_Identifier  \\\n",
       "0                  Dairy  249.8092            OUT049   \n",
       "1            Soft Drinks   48.2692            OUT018   \n",
       "2                   Meat  141.6180            OUT049   \n",
       "3  Fruits and Vegetables  182.0950            OUT010   \n",
       "4              Household   53.8614            OUT013   \n",
       "\n",
       "   Outlet_Establishment_Year Outlet_Size Outlet_Location_Type  \\\n",
       "0                       1999      Medium               Tier 1   \n",
       "1                       2009      Medium               Tier 3   \n",
       "2                       1999      Medium               Tier 1   \n",
       "3                       1998       Small               Tier 3   \n",
       "4                       1987        High               Tier 3   \n",
       "\n",
       "         Outlet_Type  Item_Outlet_Sales  \n",
       "0  Supermarket Type1          3735.1380  \n",
       "1  Supermarket Type2           443.4228  \n",
       "2  Supermarket Type1          2097.2700  \n",
       "3      Grocery Store           732.3800  \n",
       "4  Supermarket Type1           994.7052  "
      ]
     },
     "execution_count": 24,
     "metadata": {},
     "output_type": "execute_result"
    }
   ],
   "source": [
    "df.head()"
   ]
  },
  {
   "cell_type": "code",
   "execution_count": 25,
   "id": "130904ef-6fd1-4389-a219-9ef2d2a4ba5a",
   "metadata": {},
   "outputs": [
    {
     "data": {
      "text/plain": [
       "Item_Fat_Content\n",
       "Low Fat    5089\n",
       "Regular    2889\n",
       "LF          316\n",
       "reg         117\n",
       "low fat     112\n",
       "Name: count, dtype: int64"
      ]
     },
     "execution_count": 25,
     "metadata": {},
     "output_type": "execute_result"
    }
   ],
   "source": [
    "df['Item_Fat_Content'].value_counts()"
   ]
  },
  {
   "cell_type": "code",
   "execution_count": 26,
   "id": "b0f358d4-b707-44c9-b8bd-022b0cbda457",
   "metadata": {},
   "outputs": [],
   "source": [
    "df.replace({'Item_Fat_Content':{'low fat':'Low Fat', 'LF':'Low Fat', 'reg':'Regular'}}, inplace=True)"
   ]
  },
  {
   "cell_type": "code",
   "execution_count": 27,
   "id": "e4cb5f13-a901-4719-a8c5-f495794857da",
   "metadata": {},
   "outputs": [
    {
     "data": {
      "text/plain": [
       "Item_Fat_Content\n",
       "Low Fat    5517\n",
       "Regular    3006\n",
       "Name: count, dtype: int64"
      ]
     },
     "execution_count": 27,
     "metadata": {},
     "output_type": "execute_result"
    }
   ],
   "source": [
    "df['Item_Fat_Content'].value_counts()"
   ]
  },
  {
   "cell_type": "markdown",
   "id": "0222e6a0-5799-4d8d-bae5-f3298a00838c",
   "metadata": {},
   "source": [
    "### Label Encoding"
   ]
  },
  {
   "cell_type": "code",
   "execution_count": 28,
   "id": "1253458c-2dc3-473d-9b9b-6a36d35798e7",
   "metadata": {},
   "outputs": [],
   "source": [
    "from sklearn.preprocessing import LabelEncoder"
   ]
  },
  {
   "cell_type": "code",
   "execution_count": 29,
   "id": "938bbb8f-cfc1-42f3-8264-999b086c84c2",
   "metadata": {},
   "outputs": [],
   "source": [
    "encoder = LabelEncoder()"
   ]
  },
  {
   "cell_type": "code",
   "execution_count": 30,
   "id": "a94607ce-7867-45df-9bb7-6d4a034cc841",
   "metadata": {},
   "outputs": [],
   "source": [
    "df['Item_Identifier'] = encoder.fit_transform(df['Item_Identifier'])\n",
    "\n",
    "df['Item_Fat_Content'] = encoder.fit_transform(df['Item_Fat_Content'])\n",
    "\n",
    "df['Item_Type'] = encoder.fit_transform(df['Item_Type'])\n",
    "\n",
    "df['Outlet_Identifier'] = encoder.fit_transform(df['Outlet_Identifier'])\n",
    "\n",
    "df['Outlet_Size'] = encoder.fit_transform(df['Outlet_Size'])\n",
    "\n",
    "df['Outlet_Location_Type'] = encoder.fit_transform(df['Outlet_Location_Type'])\n",
    "\n",
    "df['Outlet_Type'] = encoder.fit_transform(df['Outlet_Type'])"
   ]
  },
  {
   "cell_type": "code",
   "execution_count": 31,
   "id": "a52b5ef0-3d2f-4e44-a865-a77896c5e3a5",
   "metadata": {},
   "outputs": [
    {
     "data": {
      "text/html": [
       "<div>\n",
       "<style scoped>\n",
       "    .dataframe tbody tr th:only-of-type {\n",
       "        vertical-align: middle;\n",
       "    }\n",
       "\n",
       "    .dataframe tbody tr th {\n",
       "        vertical-align: top;\n",
       "    }\n",
       "\n",
       "    .dataframe thead th {\n",
       "        text-align: right;\n",
       "    }\n",
       "</style>\n",
       "<table border=\"1\" class=\"dataframe\">\n",
       "  <thead>\n",
       "    <tr style=\"text-align: right;\">\n",
       "      <th></th>\n",
       "      <th>Item_Identifier</th>\n",
       "      <th>Item_Weight</th>\n",
       "      <th>Item_Fat_Content</th>\n",
       "      <th>Item_Visibility</th>\n",
       "      <th>Item_Type</th>\n",
       "      <th>Item_MRP</th>\n",
       "      <th>Outlet_Identifier</th>\n",
       "      <th>Outlet_Establishment_Year</th>\n",
       "      <th>Outlet_Size</th>\n",
       "      <th>Outlet_Location_Type</th>\n",
       "      <th>Outlet_Type</th>\n",
       "      <th>Item_Outlet_Sales</th>\n",
       "    </tr>\n",
       "  </thead>\n",
       "  <tbody>\n",
       "    <tr>\n",
       "      <th>0</th>\n",
       "      <td>156</td>\n",
       "      <td>9.30</td>\n",
       "      <td>0</td>\n",
       "      <td>0.016047</td>\n",
       "      <td>4</td>\n",
       "      <td>249.8092</td>\n",
       "      <td>9</td>\n",
       "      <td>1999</td>\n",
       "      <td>1</td>\n",
       "      <td>0</td>\n",
       "      <td>1</td>\n",
       "      <td>3735.1380</td>\n",
       "    </tr>\n",
       "    <tr>\n",
       "      <th>1</th>\n",
       "      <td>8</td>\n",
       "      <td>5.92</td>\n",
       "      <td>1</td>\n",
       "      <td>0.019278</td>\n",
       "      <td>14</td>\n",
       "      <td>48.2692</td>\n",
       "      <td>3</td>\n",
       "      <td>2009</td>\n",
       "      <td>1</td>\n",
       "      <td>2</td>\n",
       "      <td>2</td>\n",
       "      <td>443.4228</td>\n",
       "    </tr>\n",
       "    <tr>\n",
       "      <th>2</th>\n",
       "      <td>662</td>\n",
       "      <td>17.50</td>\n",
       "      <td>0</td>\n",
       "      <td>0.016760</td>\n",
       "      <td>10</td>\n",
       "      <td>141.6180</td>\n",
       "      <td>9</td>\n",
       "      <td>1999</td>\n",
       "      <td>1</td>\n",
       "      <td>0</td>\n",
       "      <td>1</td>\n",
       "      <td>2097.2700</td>\n",
       "    </tr>\n",
       "    <tr>\n",
       "      <th>3</th>\n",
       "      <td>1121</td>\n",
       "      <td>19.20</td>\n",
       "      <td>1</td>\n",
       "      <td>0.000000</td>\n",
       "      <td>6</td>\n",
       "      <td>182.0950</td>\n",
       "      <td>0</td>\n",
       "      <td>1998</td>\n",
       "      <td>2</td>\n",
       "      <td>2</td>\n",
       "      <td>0</td>\n",
       "      <td>732.3800</td>\n",
       "    </tr>\n",
       "    <tr>\n",
       "      <th>4</th>\n",
       "      <td>1297</td>\n",
       "      <td>8.93</td>\n",
       "      <td>0</td>\n",
       "      <td>0.000000</td>\n",
       "      <td>9</td>\n",
       "      <td>53.8614</td>\n",
       "      <td>1</td>\n",
       "      <td>1987</td>\n",
       "      <td>0</td>\n",
       "      <td>2</td>\n",
       "      <td>1</td>\n",
       "      <td>994.7052</td>\n",
       "    </tr>\n",
       "  </tbody>\n",
       "</table>\n",
       "</div>"
      ],
      "text/plain": [
       "   Item_Identifier  Item_Weight  Item_Fat_Content  Item_Visibility  Item_Type  \\\n",
       "0              156         9.30                 0         0.016047          4   \n",
       "1                8         5.92                 1         0.019278         14   \n",
       "2              662        17.50                 0         0.016760         10   \n",
       "3             1121        19.20                 1         0.000000          6   \n",
       "4             1297         8.93                 0         0.000000          9   \n",
       "\n",
       "   Item_MRP  Outlet_Identifier  Outlet_Establishment_Year  Outlet_Size  \\\n",
       "0  249.8092                  9                       1999            1   \n",
       "1   48.2692                  3                       2009            1   \n",
       "2  141.6180                  9                       1999            1   \n",
       "3  182.0950                  0                       1998            2   \n",
       "4   53.8614                  1                       1987            0   \n",
       "\n",
       "   Outlet_Location_Type  Outlet_Type  Item_Outlet_Sales  \n",
       "0                     0            1          3735.1380  \n",
       "1                     2            2           443.4228  \n",
       "2                     0            1          2097.2700  \n",
       "3                     2            0           732.3800  \n",
       "4                     2            1           994.7052  "
      ]
     },
     "execution_count": 31,
     "metadata": {},
     "output_type": "execute_result"
    }
   ],
   "source": [
    "df.head()"
   ]
  },
  {
   "cell_type": "markdown",
   "id": "efbe9f2c-04dc-4402-978e-9caaf1d1d9ca",
   "metadata": {},
   "source": [
    "## Model Building and Evaluation"
   ]
  },
  {
   "cell_type": "markdown",
   "id": "e859fdbb-b304-4a24-acb6-7d58a0b7b8fe",
   "metadata": {},
   "source": [
    "### Splitting features and Targets"
   ]
  },
  {
   "cell_type": "code",
   "execution_count": 32,
   "id": "d8c62e45-c424-4e92-a900-7449cafca56b",
   "metadata": {},
   "outputs": [],
   "source": [
    "X = df.iloc[:,:-1].values\n",
    "y = df.iloc[:,-1].values"
   ]
  },
  {
   "cell_type": "code",
   "execution_count": 33,
   "id": "30214070-4447-4673-b927-ea88899b2c08",
   "metadata": {},
   "outputs": [
    {
     "name": "stdout",
     "output_type": "stream",
     "text": [
      "[[1.560e+02 9.300e+00 0.000e+00 ... 1.000e+00 0.000e+00 1.000e+00]\n",
      " [8.000e+00 5.920e+00 1.000e+00 ... 1.000e+00 2.000e+00 2.000e+00]\n",
      " [6.620e+02 1.750e+01 0.000e+00 ... 1.000e+00 0.000e+00 1.000e+00]\n",
      " ...\n",
      " [1.357e+03 1.060e+01 0.000e+00 ... 2.000e+00 1.000e+00 1.000e+00]\n",
      " [6.810e+02 7.210e+00 1.000e+00 ... 1.000e+00 2.000e+00 2.000e+00]\n",
      " [5.000e+01 1.480e+01 0.000e+00 ... 2.000e+00 0.000e+00 1.000e+00]]\n"
     ]
    }
   ],
   "source": [
    "print(X)"
   ]
  },
  {
   "cell_type": "code",
   "execution_count": 34,
   "id": "c1816437-a50b-4c72-86a9-cc90a263f130",
   "metadata": {},
   "outputs": [
    {
     "name": "stdout",
     "output_type": "stream",
     "text": [
      "[3735.138   443.4228 2097.27   ... 1193.1136 1845.5976  765.67  ]\n"
     ]
    }
   ],
   "source": [
    "print(y)"
   ]
  },
  {
   "cell_type": "markdown",
   "id": "b9a89bb5-1964-4924-9082-bcf3924c1aa4",
   "metadata": {},
   "source": [
    "### Splitting into Train Test Splits"
   ]
  },
  {
   "cell_type": "code",
   "execution_count": 35,
   "id": "dcd73941-61c7-4da5-8c98-c4844378e33f",
   "metadata": {},
   "outputs": [],
   "source": [
    "from sklearn.model_selection import train_test_split\n",
    "X_train, X_test, y_train, y_test = train_test_split(X,y, test_size=0.2, random_state=0)"
   ]
  },
  {
   "cell_type": "code",
   "execution_count": 36,
   "id": "3c688f19-7efc-40b9-8052-7852b0c89dad",
   "metadata": {},
   "outputs": [
    {
     "name": "stdout",
     "output_type": "stream",
     "text": [
      "(8523, 11) (6818, 11) (1705, 11)\n"
     ]
    }
   ],
   "source": [
    "print(X.shape, X_train.shape, X_test.shape)"
   ]
  },
  {
   "cell_type": "markdown",
   "id": "2a0f88f5-49dc-44fa-90a2-788bf8f1c1c6",
   "metadata": {},
   "source": [
    "### Training Algorithm"
   ]
  },
  {
   "cell_type": "code",
   "execution_count": 37,
   "id": "0b4f8f5e-ef82-4974-9752-7f686087d363",
   "metadata": {},
   "outputs": [],
   "source": [
    "from tensorflow.keras.models import Sequential\n",
    "from tensorflow.keras.layers import Dense"
   ]
  },
  {
   "cell_type": "code",
   "execution_count": 38,
   "id": "6bd44917-09f6-4d74-b0c4-ef6f76801d37",
   "metadata": {},
   "outputs": [],
   "source": [
    "model = Sequential()\n",
    "\n",
    "model.add(Dense(20, activation='relu'))\n",
    "model.add(Dense(10, activation='relu'))\n",
    "model.add(Dense(5, activation='relu'))\n",
    "\n",
    "model.add(Dense(1))     # Output Layer\n",
    "\n",
    "model.compile(optimizer = 'rmsprop', loss='mse')"
   ]
  },
  {
   "cell_type": "code",
   "execution_count": 39,
   "id": "9804aa24-700f-4133-adb2-350c90f1194b",
   "metadata": {},
   "outputs": [
    {
     "name": "stdout",
     "output_type": "stream",
     "text": [
      "Epoch 1/50\n",
      "214/214 [==============================] - 0s 850us/step - loss: 4087663.5000\n",
      "Epoch 2/50\n",
      "214/214 [==============================] - 0s 798us/step - loss: 2883989.0000\n",
      "Epoch 3/50\n",
      "214/214 [==============================] - 0s 744us/step - loss: 2769298.2500\n",
      "Epoch 4/50\n",
      "214/214 [==============================] - 0s 781us/step - loss: 2658585.5000\n",
      "Epoch 5/50\n",
      "214/214 [==============================] - 0s 781us/step - loss: 2542341.2500\n",
      "Epoch 6/50\n",
      "214/214 [==============================] - 0s 778us/step - loss: 2398276.7500\n",
      "Epoch 7/50\n",
      "214/214 [==============================] - 0s 854us/step - loss: 2225358.7500\n",
      "Epoch 8/50\n",
      "214/214 [==============================] - 0s 835us/step - loss: 2069133.0000\n",
      "Epoch 9/50\n",
      "214/214 [==============================] - 0s 788us/step - loss: 1980070.5000\n",
      "Epoch 10/50\n",
      "214/214 [==============================] - 0s 882us/step - loss: 1945479.8750\n",
      "Epoch 11/50\n",
      "214/214 [==============================] - 0s 809us/step - loss: 1931303.7500\n",
      "Epoch 12/50\n",
      "214/214 [==============================] - 0s 770us/step - loss: 1920664.5000\n",
      "Epoch 13/50\n",
      "214/214 [==============================] - 0s 802us/step - loss: 1917003.7500\n",
      "Epoch 14/50\n",
      "214/214 [==============================] - 0s 776us/step - loss: 1909495.5000\n",
      "Epoch 15/50\n",
      "214/214 [==============================] - 0s 738us/step - loss: 1909623.0000\n",
      "Epoch 16/50\n",
      "214/214 [==============================] - 0s 833us/step - loss: 1901228.3750\n",
      "Epoch 17/50\n",
      "214/214 [==============================] - 0s 933us/step - loss: 1897539.8750\n",
      "Epoch 18/50\n",
      "214/214 [==============================] - 0s 900us/step - loss: 1891148.2500\n",
      "Epoch 19/50\n",
      "214/214 [==============================] - 0s 788us/step - loss: 1883083.0000\n",
      "Epoch 20/50\n",
      "214/214 [==============================] - 0s 974us/step - loss: 1882589.2500\n",
      "Epoch 21/50\n",
      "214/214 [==============================] - 0s 804us/step - loss: 1876872.1250\n",
      "Epoch 22/50\n",
      "214/214 [==============================] - 0s 858us/step - loss: 1867350.7500\n",
      "Epoch 23/50\n",
      "214/214 [==============================] - 0s 825us/step - loss: 1865928.5000\n",
      "Epoch 24/50\n",
      "214/214 [==============================] - 0s 781us/step - loss: 1852728.2500\n",
      "Epoch 25/50\n",
      "214/214 [==============================] - 0s 886us/step - loss: 1847878.6250\n",
      "Epoch 26/50\n",
      "214/214 [==============================] - 0s 812us/step - loss: 1845833.1250\n",
      "Epoch 27/50\n",
      "214/214 [==============================] - 0s 851us/step - loss: 1841566.6250\n",
      "Epoch 28/50\n",
      "214/214 [==============================] - 0s 783us/step - loss: 1835702.6250\n",
      "Epoch 29/50\n",
      "214/214 [==============================] - 0s 776us/step - loss: 1828413.6250\n",
      "Epoch 30/50\n",
      "214/214 [==============================] - 0s 777us/step - loss: 1821102.8750\n",
      "Epoch 31/50\n",
      "214/214 [==============================] - 0s 873us/step - loss: 1816117.6250\n",
      "Epoch 32/50\n",
      "214/214 [==============================] - 0s 833us/step - loss: 1807921.8750\n",
      "Epoch 33/50\n",
      "214/214 [==============================] - 0s 759us/step - loss: 1798237.7500\n",
      "Epoch 34/50\n",
      "214/214 [==============================] - 0s 896us/step - loss: 1789903.2500\n",
      "Epoch 35/50\n",
      "214/214 [==============================] - 0s 803us/step - loss: 1784869.3750\n",
      "Epoch 36/50\n",
      "214/214 [==============================] - 0s 878us/step - loss: 1776659.1250\n",
      "Epoch 37/50\n",
      "214/214 [==============================] - 0s 816us/step - loss: 1771947.6250\n",
      "Epoch 38/50\n",
      "214/214 [==============================] - 0s 852us/step - loss: 1757336.5000\n",
      "Epoch 39/50\n",
      "214/214 [==============================] - 0s 771us/step - loss: 1750959.6250\n",
      "Epoch 40/50\n",
      "214/214 [==============================] - 0s 896us/step - loss: 1745638.2500\n",
      "Epoch 41/50\n",
      "214/214 [==============================] - 0s 920us/step - loss: 1738952.6250\n",
      "Epoch 42/50\n",
      "214/214 [==============================] - 0s 797us/step - loss: 1726538.3750\n",
      "Epoch 43/50\n",
      "214/214 [==============================] - 0s 866us/step - loss: 1718223.7500\n",
      "Epoch 44/50\n",
      "214/214 [==============================] - 0s 829us/step - loss: 1705953.3750\n",
      "Epoch 45/50\n",
      "214/214 [==============================] - 0s 778us/step - loss: 1701904.8750\n",
      "Epoch 46/50\n",
      "214/214 [==============================] - 0s 823us/step - loss: 1687151.8750\n",
      "Epoch 47/50\n",
      "214/214 [==============================] - 0s 824us/step - loss: 1674630.0000\n",
      "Epoch 48/50\n",
      "214/214 [==============================] - 0s 829us/step - loss: 1664678.5000\n",
      "Epoch 49/50\n",
      "214/214 [==============================] - 0s 816us/step - loss: 1661157.5000\n",
      "Epoch 50/50\n",
      "214/214 [==============================] - 0s 787us/step - loss: 1643285.8750\n"
     ]
    },
    {
     "data": {
      "text/plain": [
       "<tensorflow.python.keras.callbacks.History at 0x284e58b3040>"
      ]
     },
     "execution_count": 39,
     "metadata": {},
     "output_type": "execute_result"
    }
   ],
   "source": [
    "model.fit(x = X_train, y = y_train, epochs=50)"
   ]
  },
  {
   "cell_type": "code",
   "execution_count": 40,
   "id": "4ce08cac-4282-41c1-894a-71454e6669ab",
   "metadata": {},
   "outputs": [
    {
     "name": "stdout",
     "output_type": "stream",
     "text": [
      "Model: \"sequential\"\n",
      "_________________________________________________________________\n",
      "Layer (type)                 Output Shape              Param #   \n",
      "=================================================================\n",
      "dense (Dense)                (None, 20)                240       \n",
      "_________________________________________________________________\n",
      "dense_1 (Dense)              (None, 10)                210       \n",
      "_________________________________________________________________\n",
      "dense_2 (Dense)              (None, 5)                 55        \n",
      "_________________________________________________________________\n",
      "dense_3 (Dense)              (None, 1)                 6         \n",
      "=================================================================\n",
      "Total params: 511\n",
      "Trainable params: 511\n",
      "Non-trainable params: 0\n",
      "_________________________________________________________________\n"
     ]
    }
   ],
   "source": [
    "model.summary()"
   ]
  },
  {
   "cell_type": "code",
   "execution_count": 42,
   "id": "753cf443-b132-40b8-afcd-82fdcc9c6550",
   "metadata": {},
   "outputs": [],
   "source": [
    "loss_df = pd.DataFrame(model.history.history)"
   ]
  },
  {
   "cell_type": "code",
   "execution_count": 43,
   "id": "43e1fbff-1b9a-4a26-bb60-6a332511d940",
   "metadata": {},
   "outputs": [
    {
     "data": {
      "text/html": [
       "<div>\n",
       "<style scoped>\n",
       "    .dataframe tbody tr th:only-of-type {\n",
       "        vertical-align: middle;\n",
       "    }\n",
       "\n",
       "    .dataframe tbody tr th {\n",
       "        vertical-align: top;\n",
       "    }\n",
       "\n",
       "    .dataframe thead th {\n",
       "        text-align: right;\n",
       "    }\n",
       "</style>\n",
       "<table border=\"1\" class=\"dataframe\">\n",
       "  <thead>\n",
       "    <tr style=\"text-align: right;\">\n",
       "      <th></th>\n",
       "      <th>loss</th>\n",
       "    </tr>\n",
       "  </thead>\n",
       "  <tbody>\n",
       "    <tr>\n",
       "      <th>0</th>\n",
       "      <td>4087663.500</td>\n",
       "    </tr>\n",
       "    <tr>\n",
       "      <th>1</th>\n",
       "      <td>2883989.000</td>\n",
       "    </tr>\n",
       "    <tr>\n",
       "      <th>2</th>\n",
       "      <td>2769298.250</td>\n",
       "    </tr>\n",
       "    <tr>\n",
       "      <th>3</th>\n",
       "      <td>2658585.500</td>\n",
       "    </tr>\n",
       "    <tr>\n",
       "      <th>4</th>\n",
       "      <td>2542341.250</td>\n",
       "    </tr>\n",
       "    <tr>\n",
       "      <th>5</th>\n",
       "      <td>2398276.750</td>\n",
       "    </tr>\n",
       "    <tr>\n",
       "      <th>6</th>\n",
       "      <td>2225358.750</td>\n",
       "    </tr>\n",
       "    <tr>\n",
       "      <th>7</th>\n",
       "      <td>2069133.000</td>\n",
       "    </tr>\n",
       "    <tr>\n",
       "      <th>8</th>\n",
       "      <td>1980070.500</td>\n",
       "    </tr>\n",
       "    <tr>\n",
       "      <th>9</th>\n",
       "      <td>1945479.875</td>\n",
       "    </tr>\n",
       "    <tr>\n",
       "      <th>10</th>\n",
       "      <td>1931303.750</td>\n",
       "    </tr>\n",
       "    <tr>\n",
       "      <th>11</th>\n",
       "      <td>1920664.500</td>\n",
       "    </tr>\n",
       "    <tr>\n",
       "      <th>12</th>\n",
       "      <td>1917003.750</td>\n",
       "    </tr>\n",
       "    <tr>\n",
       "      <th>13</th>\n",
       "      <td>1909495.500</td>\n",
       "    </tr>\n",
       "    <tr>\n",
       "      <th>14</th>\n",
       "      <td>1909623.000</td>\n",
       "    </tr>\n",
       "    <tr>\n",
       "      <th>15</th>\n",
       "      <td>1901228.375</td>\n",
       "    </tr>\n",
       "    <tr>\n",
       "      <th>16</th>\n",
       "      <td>1897539.875</td>\n",
       "    </tr>\n",
       "    <tr>\n",
       "      <th>17</th>\n",
       "      <td>1891148.250</td>\n",
       "    </tr>\n",
       "    <tr>\n",
       "      <th>18</th>\n",
       "      <td>1883083.000</td>\n",
       "    </tr>\n",
       "    <tr>\n",
       "      <th>19</th>\n",
       "      <td>1882589.250</td>\n",
       "    </tr>\n",
       "    <tr>\n",
       "      <th>20</th>\n",
       "      <td>1876872.125</td>\n",
       "    </tr>\n",
       "    <tr>\n",
       "      <th>21</th>\n",
       "      <td>1867350.750</td>\n",
       "    </tr>\n",
       "    <tr>\n",
       "      <th>22</th>\n",
       "      <td>1865928.500</td>\n",
       "    </tr>\n",
       "    <tr>\n",
       "      <th>23</th>\n",
       "      <td>1852728.250</td>\n",
       "    </tr>\n",
       "    <tr>\n",
       "      <th>24</th>\n",
       "      <td>1847878.625</td>\n",
       "    </tr>\n",
       "    <tr>\n",
       "      <th>25</th>\n",
       "      <td>1845833.125</td>\n",
       "    </tr>\n",
       "    <tr>\n",
       "      <th>26</th>\n",
       "      <td>1841566.625</td>\n",
       "    </tr>\n",
       "    <tr>\n",
       "      <th>27</th>\n",
       "      <td>1835702.625</td>\n",
       "    </tr>\n",
       "    <tr>\n",
       "      <th>28</th>\n",
       "      <td>1828413.625</td>\n",
       "    </tr>\n",
       "    <tr>\n",
       "      <th>29</th>\n",
       "      <td>1821102.875</td>\n",
       "    </tr>\n",
       "    <tr>\n",
       "      <th>30</th>\n",
       "      <td>1816117.625</td>\n",
       "    </tr>\n",
       "    <tr>\n",
       "      <th>31</th>\n",
       "      <td>1807921.875</td>\n",
       "    </tr>\n",
       "    <tr>\n",
       "      <th>32</th>\n",
       "      <td>1798237.750</td>\n",
       "    </tr>\n",
       "    <tr>\n",
       "      <th>33</th>\n",
       "      <td>1789903.250</td>\n",
       "    </tr>\n",
       "    <tr>\n",
       "      <th>34</th>\n",
       "      <td>1784869.375</td>\n",
       "    </tr>\n",
       "    <tr>\n",
       "      <th>35</th>\n",
       "      <td>1776659.125</td>\n",
       "    </tr>\n",
       "    <tr>\n",
       "      <th>36</th>\n",
       "      <td>1771947.625</td>\n",
       "    </tr>\n",
       "    <tr>\n",
       "      <th>37</th>\n",
       "      <td>1757336.500</td>\n",
       "    </tr>\n",
       "    <tr>\n",
       "      <th>38</th>\n",
       "      <td>1750959.625</td>\n",
       "    </tr>\n",
       "    <tr>\n",
       "      <th>39</th>\n",
       "      <td>1745638.250</td>\n",
       "    </tr>\n",
       "    <tr>\n",
       "      <th>40</th>\n",
       "      <td>1738952.625</td>\n",
       "    </tr>\n",
       "    <tr>\n",
       "      <th>41</th>\n",
       "      <td>1726538.375</td>\n",
       "    </tr>\n",
       "    <tr>\n",
       "      <th>42</th>\n",
       "      <td>1718223.750</td>\n",
       "    </tr>\n",
       "    <tr>\n",
       "      <th>43</th>\n",
       "      <td>1705953.375</td>\n",
       "    </tr>\n",
       "    <tr>\n",
       "      <th>44</th>\n",
       "      <td>1701904.875</td>\n",
       "    </tr>\n",
       "    <tr>\n",
       "      <th>45</th>\n",
       "      <td>1687151.875</td>\n",
       "    </tr>\n",
       "    <tr>\n",
       "      <th>46</th>\n",
       "      <td>1674630.000</td>\n",
       "    </tr>\n",
       "    <tr>\n",
       "      <th>47</th>\n",
       "      <td>1664678.500</td>\n",
       "    </tr>\n",
       "    <tr>\n",
       "      <th>48</th>\n",
       "      <td>1661157.500</td>\n",
       "    </tr>\n",
       "    <tr>\n",
       "      <th>49</th>\n",
       "      <td>1643285.875</td>\n",
       "    </tr>\n",
       "  </tbody>\n",
       "</table>\n",
       "</div>"
      ],
      "text/plain": [
       "           loss\n",
       "0   4087663.500\n",
       "1   2883989.000\n",
       "2   2769298.250\n",
       "3   2658585.500\n",
       "4   2542341.250\n",
       "5   2398276.750\n",
       "6   2225358.750\n",
       "7   2069133.000\n",
       "8   1980070.500\n",
       "9   1945479.875\n",
       "10  1931303.750\n",
       "11  1920664.500\n",
       "12  1917003.750\n",
       "13  1909495.500\n",
       "14  1909623.000\n",
       "15  1901228.375\n",
       "16  1897539.875\n",
       "17  1891148.250\n",
       "18  1883083.000\n",
       "19  1882589.250\n",
       "20  1876872.125\n",
       "21  1867350.750\n",
       "22  1865928.500\n",
       "23  1852728.250\n",
       "24  1847878.625\n",
       "25  1845833.125\n",
       "26  1841566.625\n",
       "27  1835702.625\n",
       "28  1828413.625\n",
       "29  1821102.875\n",
       "30  1816117.625\n",
       "31  1807921.875\n",
       "32  1798237.750\n",
       "33  1789903.250\n",
       "34  1784869.375\n",
       "35  1776659.125\n",
       "36  1771947.625\n",
       "37  1757336.500\n",
       "38  1750959.625\n",
       "39  1745638.250\n",
       "40  1738952.625\n",
       "41  1726538.375\n",
       "42  1718223.750\n",
       "43  1705953.375\n",
       "44  1701904.875\n",
       "45  1687151.875\n",
       "46  1674630.000\n",
       "47  1664678.500\n",
       "48  1661157.500\n",
       "49  1643285.875"
      ]
     },
     "execution_count": 43,
     "metadata": {},
     "output_type": "execute_result"
    }
   ],
   "source": [
    "loss_df"
   ]
  },
  {
   "cell_type": "code",
   "execution_count": 44,
   "id": "1660032b-06f0-4bc6-a8bd-41fe42d21b4d",
   "metadata": {},
   "outputs": [
    {
     "data": {
      "text/plain": [
       "<Axes: >"
      ]
     },
     "execution_count": 44,
     "metadata": {},
     "output_type": "execute_result"
    },
    {
     "data": {
      "image/png": "[encoded data removed]",
      "text/plain": [
       "<Figure size 640x480 with 1 Axes>"
      ]
     },
     "metadata": {},
     "output_type": "display_data"
    }
   ],
   "source": [
    "loss_df.plot()"
   ]
  },
  {
   "cell_type": "markdown",
   "id": "2bed1d50-393d-4a08-a0fa-762ee1562387",
   "metadata": {},
   "source": [
    "#### _From the graph, we can see that the model’s loss is decreasing significantly._"
   ]
  },
  {
   "cell_type": "markdown",
   "id": "54fef2b1-d424-4ff0-885f-a395896b1776",
   "metadata": {},
   "source": [
    "### Model Evaluation"
   ]
  },
  {
   "cell_type": "code",
   "execution_count": 45,
   "id": "8e897649-fd78-4d80-badf-170b6be166a7",
   "metadata": {},
   "outputs": [
    {
     "name": "stdout",
     "output_type": "stream",
     "text": [
      "1768189.875\n"
     ]
    }
   ],
   "source": [
    "# Model Evaluation on test data\n",
    "test_eval = model.evaluate(X_test, y_test, verbose=0)\n",
    "print(test_eval)"
   ]
  },
  {
   "cell_type": "code",
   "execution_count": 46,
   "id": "b9298eab-0b64-4988-b5b8-e7192c9b3be7",
   "metadata": {},
   "outputs": [
    {
     "name": "stdout",
     "output_type": "stream",
     "text": [
      "1768189.875\n"
     ]
    }
   ],
   "source": [
    "# Model Evaluation on train set\n",
    "train_eval = model.evaluate(X_train, y_train, verbose=0)\n",
    "print(test_eval)"
   ]
  },
  {
   "cell_type": "code",
   "execution_count": 48,
   "id": "29b957a6-d77e-490f-a78c-e8554bc9b3e9",
   "metadata": {},
   "outputs": [
    {
     "name": "stdout",
     "output_type": "stream",
     "text": [
      "-27469.0\n"
     ]
    }
   ],
   "source": [
    "# Checking the difference between train_eval and test_eval\n",
    "model_diff = train_eval - test_eval\n",
    "print(model_diff)"
   ]
  },
  {
   "cell_type": "code",
   "execution_count": 49,
   "id": "22b90cf7-97dc-4f11-a2a5-24d1c9fd697d",
   "metadata": {},
   "outputs": [],
   "source": [
    "# Train prediction on test data\n",
    "train_prediction = model.predict(X_train)"
   ]
  },
  {
   "cell_type": "code",
   "execution_count": 51,
   "id": "81674fec-043e-40b0-8c1a-e786e9a7c933",
   "metadata": {},
   "outputs": [],
   "source": [
    "# Test predicition on test data\n",
    "test_prediction = model.predict(X_test)"
   ]
  },
  {
   "cell_type": "code",
   "execution_count": 52,
   "id": "e03b0b2a-46eb-4842-acd0-9a7c1b3d1c88",
   "metadata": {},
   "outputs": [
    {
     "name": "stdout",
     "output_type": "stream",
     "text": [
      "[[2776.643 ]\n",
      " [1156.9764]\n",
      " [1275.3442]\n",
      " ...\n",
      " [1468.8796]\n",
      " [2264.6687]\n",
      " [3504.3477]]\n"
     ]
    }
   ],
   "source": [
    "print(train_prediction)"
   ]
  },
  {
   "cell_type": "code",
   "execution_count": 53,
   "id": "ab264973-42a9-4431-a80d-bdbb5f329883",
   "metadata": {},
   "outputs": [
    {
     "name": "stdout",
     "output_type": "stream",
     "text": [
      "[[2976.7678 ]\n",
      " [1778.3073 ]\n",
      " [1968.756  ]\n",
      " ...\n",
      " [4361.677  ]\n",
      " [ 693.54706]\n",
      " [4927.399  ]]\n"
     ]
    }
   ],
   "source": [
    "print(test_prediction)"
   ]
  },
  {
   "cell_type": "code",
   "execution_count": 55,
   "id": "0aaf3919-419b-48c6-8977-f6c6a2c9be4f",
   "metadata": {},
   "outputs": [],
   "source": [
    "# R Squared : R-squared measures the strength of the relationship between model and the dependent variable on a convenient 0 – 100% scale.\n",
    "from sklearn.metrics import r2_score\n",
    "r2_train = r2_score(y_train, train_prediction)"
   ]
  },
  {
   "cell_type": "code",
   "execution_count": 56,
   "id": "e0ed1d00-8b60-45fb-99b6-a4234105a9b4",
   "metadata": {},
   "outputs": [
    {
     "name": "stdout",
     "output_type": "stream",
     "text": [
      "R Squared value of train data:  0.40140421086147426\n"
     ]
    }
   ],
   "source": [
    "print('R Squared value of train data: ', r2_train)"
   ]
  },
  {
   "cell_type": "code",
   "execution_count": 57,
   "id": "20f7ad9b-816a-4c12-8b73-f4574c10db0b",
   "metadata": {},
   "outputs": [],
   "source": [
    "r2_test = r2_score(y_test, test_prediction)"
   ]
  },
  {
   "cell_type": "code",
   "execution_count": 58,
   "id": "0bae8eb5-6429-441c-b4c4-8cc52d4b46ec",
   "metadata": {},
   "outputs": [
    {
     "name": "stdout",
     "output_type": "stream",
     "text": [
      "R Squared value of test data:  0.3958746727000383\n"
     ]
    }
   ],
   "source": [
    "print('R Squared value of test data: ', r2_test)"
   ]
  },
  {
   "cell_type": "code",
   "execution_count": null,
   "id": "b93fcf13-9ac8-4b2e-a76c-79c3766e603f",
   "metadata": {},
   "outputs": [],
   "source": []
  }
 ],
 "metadata": {
  "kernelspec": {
   "display_name": "Python 3 (ipykernel)",
   "language": "python",
   "name": "python3"
  },
  "language_info": {
   "codemirror_mode": {
    "name": "ipython",
    "version": 3
   },
   "file_extension": ".py",
   "mimetype": "text/x-python",
   "name": "python",
   "nbconvert_exporter": "python",
   "pygments_lexer": "ipython3",
   "version": "3.8.20"
  }
 },
 "nbformat": 4,
 "nbformat_minor": 5
}
